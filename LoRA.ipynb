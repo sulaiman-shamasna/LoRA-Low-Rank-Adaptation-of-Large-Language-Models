{
 "cells": [
  {
   "cell_type": "markdown",
   "metadata": {},
   "source": [
    "# Low Rank Adaptation\n",
    "---"
   ]
  },
  {
   "cell_type": "code",
   "execution_count": 1,
   "metadata": {},
   "outputs": [],
   "source": [
    "# !pip install torch\n",
    "# !pip install torch==2.0.1+cu118 torchvision torchaudio --index-url https://download.pytorch.org/whl/cu118\n",
    "# !pip install numpy==1.26.4"
   ]
  },
  {
   "cell_type": "code",
   "execution_count": 1,
   "metadata": {},
   "outputs": [],
   "source": [
    "import torch.nn as nn\n",
    "import torch.nn.functional as F\n",
    "import torch"
   ]
  },
  {
   "cell_type": "code",
   "execution_count": 2,
   "metadata": {},
   "outputs": [
    {
     "name": "stdout",
     "output_type": "stream",
     "text": [
      "cuda\n"
     ]
    }
   ],
   "source": [
    "if torch.cuda.is_available():\n",
    "    torch.backends.cudnn.deterministic=True\n",
    "    DEVICE=torch.device('cuda')\n",
    "else:\n",
    "    DEVICE=torch.device('cpu')\n",
    "\n",
    "print(DEVICE)"
   ]
  },
  {
   "cell_type": "code",
   "execution_count": 25,
   "metadata": {},
   "outputs": [],
   "source": [
    "if torch.cuda.is_available():\n",
    "    \"\"\"\n",
    "    NVIDIA CUDA Deep Neural Network (cuDNN) is a GPU-accelerated library of primitives for deep neural networks\n",
    "    \"\"\"\n",
    "    torch.backends.cudnn.deterministic=True\n",
    "\n",
    "class LoRALayer(nn.Module):\n",
    "    def __init__(self, in_dim, out_dim, rank, alpha):\n",
    "        super().__init__()\n",
    "        std_dev = 1/torch.sqrt(torch.tensor(rank).float())\n",
    "        self.A = nn.Parameter(torch.randn(in_dim, rank)*std_dev)\n",
    "        self.B = nn.Parameter(torch.zeros(rank, out_dim))\n",
    "        self.alpha = alpha\n",
    "        \n",
    "    def forward(self, x):\n",
    "        x = self.alpha*(x@self.A@self.B) \n",
    "        # Here, @ denotes matrix multiplication\n",
    "        return x\n",
    "    \n",
    "class LinearWithLoRA(nn.Module):\n",
    "    def __init__(self, linear, rank, alpha):\n",
    "        super().__init__()\n",
    "        self.linear=linear\n",
    "        self.lora=LoRALayer(\n",
    "            linear.in_features, linear.out_features, rank, alpha\n",
    "        )\n",
    "    \n",
    "    def forward(self, x):\n",
    "        return self.linear(x)+self.lora(x)"
   ]
  },
  {
   "cell_type": "markdown",
   "metadata": {},
   "source": [
    "### Applying LoRA to Linear Layer\n",
    "Let's apply LoRA to the Linear layer, we see that the results are the same since we haven't trained the LoRA weights yet. In other words, everything works as expected:"
   ]
  },
  {
   "cell_type": "code",
   "execution_count": 6,
   "metadata": {},
   "outputs": [],
   "source": [
    "# import torch.nn.functional as F\n",
    "\n",
    "# # This LoRA code is equivalent to LinearWithLoRA\n",
    "# class LinearWithLoRAMerged(nn.Module):\n",
    "#     def __init__(self, linear, rank, alpha):\n",
    "#         super().__init__()\n",
    "#         self.linear = linear\n",
    "#         self.lora = LoRALayer(\n",
    "#             linear.in_features, linear.out_features, rank, alpha\n",
    "#         )\n",
    "    \n",
    "#     def forward(self, x):\n",
    "#         lora=self.lora.A @ self.lora.B # combine LoRA metrices\n",
    "#         # then combine LoRA original weights\n",
    "#         combined_weight = self.linear.weight + self.lora.alpha*lora.T\n",
    "#         return F.linear(x, combined_weight, self.linear.bias)"
   ]
  },
  {
   "cell_type": "code",
   "execution_count": 7,
   "metadata": {},
   "outputs": [],
   "source": [
    "# layer_lora_2=LinearWithLoRAMerged(layer, rank=2, alpha=4)\n",
    "# print(layer_lora_2(x))"
   ]
  },
  {
   "cell_type": "code",
   "execution_count": 22,
   "metadata": {},
   "outputs": [
    {
     "name": "stdout",
     "output_type": "stream",
     "text": [
      "cuda \n",
      " -----\n",
      "MultilayerPerceptron(\n",
      "  (layers): Sequential(\n",
      "    (0): Linear(in_features=784, out_features=128, bias=True)\n",
      "    (1): ReLU()\n",
      "    (2): Linear(in_features=128, out_features=256, bias=True)\n",
      "    (3): ReLU()\n",
      "    (4): Linear(in_features=256, out_features=10, bias=True)\n",
      "  )\n",
      ") \n",
      " -----\n",
      "Adam (\n",
      "Parameter Group 0\n",
      "    amsgrad: False\n",
      "    betas: (0.9, 0.999)\n",
      "    capturable: False\n",
      "    differentiable: False\n",
      "    eps: 1e-08\n",
      "    foreach: None\n",
      "    fused: None\n",
      "    lr: 0.005\n",
      "    maximize: False\n",
      "    weight_decay: 0\n",
      ") \n",
      " -----\n"
     ]
    }
   ],
   "source": [
    "from configs import *\n",
    "\n",
    "class MultilayerPerceptron(nn.Module):\n",
    "    def __init__(self, num_features, num_hidden_1, num_hidden_2, num_classes):\n",
    "        super().__init__()\n",
    "        self.layers=nn.Sequential(\n",
    "            nn.Linear(num_features, num_hidden_1),\n",
    "            nn.ReLU(),\n",
    "            nn.Linear(num_hidden_1, num_hidden_2),\n",
    "            nn.ReLU(),\n",
    "            nn.Linear(num_hidden_2, num_classes)\n",
    "        )\n",
    "    \n",
    "    def forward(self, x):\n",
    "        x=self.layers(x)\n",
    "        return x\n",
    "    \n",
    "model=MultilayerPerceptron(\n",
    "    num_features = num_features,\n",
    "    num_hidden_1 = num_hidden_1,\n",
    "    num_hidden_2 = num_hidden_2,\n",
    "    num_classes = num_classes\n",
    ")\n",
    "\n",
    "model.to(DEVICE)\n",
    "optimizer_pretrained=torch.optim.Adam(model.parameters(), lr=learning_rate)\n",
    "print(DEVICE, '\\n -----')\n",
    "print(model, '\\n -----')\n",
    "print(optimizer_pretrained, '\\n -----')"
   ]
  },
  {
   "cell_type": "code",
   "execution_count": 11,
   "metadata": {},
   "outputs": [
    {
     "name": "stdout",
     "output_type": "stream",
     "text": [
      "Image batch dimensions: torch.Size([64, 1, 28, 28])\n",
      "Image label dimensions: torch.Size([64])\n"
     ]
    }
   ],
   "source": [
    "from torchvision import datasets\n",
    "from torchvision import transforms\n",
    "from torch.utils.data import DataLoader\n",
    "from configs import *\n",
    "\n",
    "\n",
    "# Note: transforms.ToTensor() scales input images to 0-1 range\n",
    "train_dataset=datasets.MNIST(root='data', train=True, transform=transforms.ToTensor(), download=True)\n",
    "test_dataset=datasets.MNIST(root='data', train=False, transform=transforms.ToTensor())\n",
    "train_loader=DataLoader(dataset=train_dataset, batch_size=BATCH_SIZE, shuffle=True)\n",
    "test_loader=DataLoader(dataset=test_dataset, batch_size=BATCH_SIZE, shuffle=False)\n",
    "\n",
    "for images, labels in train_loader:\n",
    "    print('Image batch dimensions:', images.shape)\n",
    "    print('Image label dimensions:', labels.shape)\n",
    "    break"
   ]
  },
  {
   "cell_type": "code",
   "execution_count": 12,
   "metadata": {},
   "outputs": [],
   "source": [
    "def compute_accuracy(model, data_loader, device):\n",
    "    model.eval()\n",
    "    correct_pred, num_examples=0,0\n",
    "    with torch.no_grad():\n",
    "        for features, targets in data_loader:\n",
    "            features=features.view(-1, 28*28).to(device)\n",
    "            targets=targets.to(device)\n",
    "            logits=model(features)\n",
    "            _, predicted_labels=torch.max(logits,1)\n",
    "            num_examples+=targets.size(0)\n",
    "            correct_pred+=(predicted_labels==targets).sum()\n",
    "        return correct_pred.float()/num_examples*100"
   ]
  },
  {
   "cell_type": "code",
   "execution_count": 23,
   "metadata": {},
   "outputs": [
    {
     "name": "stdout",
     "output_type": "stream",
     "text": [
      "Epoch: 001/010|Batch 000/938| Loss: 2.3158\n",
      "Epoch: 001/010|Batch 400/938| Loss: 0.2281\n",
      "Epoch: 001/010|Batch 800/938| Loss: 0.0836\n",
      "Epoch: 001/010 training accuracy: 97.13%\n",
      "Time elapsed: 0.19 min\n",
      "Epoch: 002/010|Batch 000/938| Loss: 0.0481\n",
      "Epoch: 002/010|Batch 400/938| Loss: 0.0714\n",
      "Epoch: 002/010|Batch 800/938| Loss: 0.1637\n",
      "Epoch: 002/010 training accuracy: 96.48%\n",
      "Time elapsed: 0.37 min\n",
      "Epoch: 003/010|Batch 000/938| Loss: 0.2207\n",
      "Epoch: 003/010|Batch 400/938| Loss: 0.2021\n",
      "Epoch: 003/010|Batch 800/938| Loss: 0.0160\n",
      "Epoch: 003/010 training accuracy: 97.78%\n",
      "Time elapsed: 0.57 min\n",
      "Epoch: 004/010|Batch 000/938| Loss: 0.0869\n",
      "Epoch: 004/010|Batch 400/938| Loss: 0.0343\n",
      "Epoch: 004/010|Batch 800/938| Loss: 0.1604\n",
      "Epoch: 004/010 training accuracy: 97.79%\n",
      "Time elapsed: 0.77 min\n",
      "Epoch: 005/010|Batch 000/938| Loss: 0.0474\n",
      "Epoch: 005/010|Batch 400/938| Loss: 0.0264\n",
      "Epoch: 005/010|Batch 800/938| Loss: 0.0101\n",
      "Epoch: 005/010 training accuracy: 98.30%\n",
      "Time elapsed: 0.97 min\n",
      "Epoch: 006/010|Batch 000/938| Loss: 0.0298\n",
      "Epoch: 006/010|Batch 400/938| Loss: 0.1457\n",
      "Epoch: 006/010|Batch 800/938| Loss: 0.0096\n",
      "Epoch: 006/010 training accuracy: 98.91%\n",
      "Time elapsed: 1.18 min\n",
      "Epoch: 007/010|Batch 000/938| Loss: 0.0372\n",
      "Epoch: 007/010|Batch 400/938| Loss: 0.0873\n",
      "Epoch: 007/010|Batch 800/938| Loss: 0.0955\n",
      "Epoch: 007/010 training accuracy: 98.44%\n",
      "Time elapsed: 1.36 min\n",
      "Epoch: 008/010|Batch 000/938| Loss: 0.0352\n",
      "Epoch: 008/010|Batch 400/938| Loss: 0.0837\n",
      "Epoch: 008/010|Batch 800/938| Loss: 0.0187\n",
      "Epoch: 008/010 training accuracy: 98.70%\n",
      "Time elapsed: 1.55 min\n",
      "Epoch: 009/010|Batch 000/938| Loss: 0.0043\n",
      "Epoch: 009/010|Batch 400/938| Loss: 0.0664\n",
      "Epoch: 009/010|Batch 800/938| Loss: 0.0435\n",
      "Epoch: 009/010 training accuracy: 98.34%\n",
      "Time elapsed: 1.88 min\n",
      "Epoch: 010/010|Batch 000/938| Loss: 0.0737\n",
      "Epoch: 010/010|Batch 400/938| Loss: 0.0039\n",
      "Epoch: 010/010|Batch 800/938| Loss: 0.0018\n",
      "Epoch: 010/010 training accuracy: 98.84%\n",
      "Time elapsed: 2.17 min\n",
      "Total Training Time: 2.17 min\n",
      "Test accuracy: 97.34%\n"
     ]
    }
   ],
   "source": [
    "import time\n",
    "\n",
    "def train(num_epochs, model, optimizer, train_loader, device):\n",
    "    start_time=time.time()\n",
    "    for epoch in range(num_epochs):\n",
    "        model.train()\n",
    "        for batch_idx, (features, targets) in enumerate(train_loader):\n",
    "            features=features.view(-1, 28*28).to(device)\n",
    "            targets=targets.to(device)\n",
    "            \n",
    "            # forward and back propagation\n",
    "            logits=model(features)\n",
    "            loss=F.cross_entropy(logits, targets)\n",
    "            optimizer.zero_grad()\n",
    "            \n",
    "            loss.backward()\n",
    "            \n",
    "            # update model parameters\n",
    "            optimizer.step()\n",
    "            \n",
    "            # logging\n",
    "            if not batch_idx %400:\n",
    "                print('Epoch: %03d/%03d|Batch %03d/%03d| Loss: %.4f' % (epoch+1, num_epochs, batch_idx, len(train_loader), loss))\n",
    "        \n",
    "        with torch.set_grad_enabled(False):\n",
    "            print('Epoch: %03d/%03d training accuracy: %.2f%%' % (epoch+1, num_epochs, compute_accuracy(model, train_loader, device)))\n",
    "        \n",
    "        print('Time elapsed: %.2f min' % ((time.time() - start_time)/60))\n",
    "    print('Total Training Time: %.2f min' % ((time.time() - start_time)/60))\n",
    "                  \n",
    "                  \n",
    "train(num_epochs, model, optimizer_pretrained, train_loader, DEVICE)\n",
    "print(f'Test accuracy: {compute_accuracy(model, test_loader, DEVICE):.2f}%')"
   ]
  },
  {
   "cell_type": "markdown",
   "metadata": {},
   "source": [
    "##### Injecting LoRA Layers"
   ]
  },
  {
   "cell_type": "code",
   "execution_count": 26,
   "metadata": {},
   "outputs": [
    {
     "name": "stdout",
     "output_type": "stream",
     "text": [
      "MultilayerPerceptron(\n",
      "  (layers): Sequential(\n",
      "    (0): LinearWithLoRA(\n",
      "      (linear): Linear(in_features=784, out_features=128, bias=True)\n",
      "      (lora): LoRALayer()\n",
      "    )\n",
      "    (1): ReLU()\n",
      "    (2): LinearWithLoRA(\n",
      "      (linear): Linear(in_features=128, out_features=256, bias=True)\n",
      "      (lora): LoRALayer()\n",
      "    )\n",
      "    (3): ReLU()\n",
      "    (4): LinearWithLoRA(\n",
      "      (linear): Linear(in_features=256, out_features=10, bias=True)\n",
      "      (lora): LoRALayer()\n",
      "    )\n",
      "  )\n",
      ")\n"
     ]
    }
   ],
   "source": [
    "import copy\n",
    "\n",
    "model_lora=copy.deepcopy(model)\n",
    "\n",
    "model_lora.layers[0]=LinearWithLoRA(model_lora.layers[0], rank=4, alpha=8)\n",
    "model_lora.layers[2]=LinearWithLoRA(model_lora.layers[2], rank=4, alpha=8)\n",
    "model_lora.layers[4]=LinearWithLoRA(model_lora.layers[4], rank=4, alpha=8)\n",
    "model_lora.to(DEVICE)\n",
    "optimizer_lora=torch.optim.Adam(model_lora.parameters(), lr=learning_rate)\n",
    "print(model_lora)"
   ]
  },
  {
   "cell_type": "code",
   "execution_count": 27,
   "metadata": {},
   "outputs": [
    {
     "name": "stdout",
     "output_type": "stream",
     "text": [
      "Test accuracy orig model:97.34%\n",
      "Test accuracy LoRA model:97.34%\n"
     ]
    }
   ],
   "source": [
    "print(f'Test accuracy orig model:{compute_accuracy(model, test_loader, DEVICE):.2f}%')\n",
    "print(f'Test accuracy LoRA model:{compute_accuracy(model_lora, test_loader, DEVICE):.2f}%')"
   ]
  },
  {
   "cell_type": "code",
   "execution_count": 28,
   "metadata": {},
   "outputs": [
    {
     "name": "stdout",
     "output_type": "stream",
     "text": [
      "layers.0.linear.weight:False\n",
      "layers.0.linear.bias:False\n",
      "layers.0.lora.A:True\n",
      "layers.0.lora.B:True\n",
      "layers.2.linear.weight:False\n",
      "layers.2.linear.bias:False\n",
      "layers.2.lora.A:True\n",
      "layers.2.lora.B:True\n",
      "layers.4.linear.weight:False\n",
      "layers.4.linear.bias:False\n",
      "layers.4.lora.A:True\n",
      "layers.4.lora.B:True\n"
     ]
    }
   ],
   "source": [
    "def freeze_linear_layers(model):\n",
    "    for child in model.children():\n",
    "        if isinstance(child, nn.Linear):\n",
    "            for param in child.parameters():\n",
    "                param.requires_grad=False\n",
    "        else:\n",
    "            # recursively freeze linear layers in children modules\n",
    "            freeze_linear_layers(child)\n",
    "\n",
    "freeze_linear_layers(model_lora)\n",
    "for name, param in model_lora.named_parameters():\n",
    "    print(f'{name}:{param.requires_grad}')"
   ]
  },
  {
   "cell_type": "code",
   "execution_count": 29,
   "metadata": {},
   "outputs": [
    {
     "name": "stdout",
     "output_type": "stream",
     "text": [
      "Epoch: 001/010|Batch 000/938| Loss: 0.0506\n",
      "Epoch: 001/010|Batch 400/938| Loss: 0.0474\n",
      "Epoch: 001/010|Batch 800/938| Loss: 0.0007\n",
      "Epoch: 001/010 training accuracy: 98.83%\n",
      "Time elapsed: 0.22 min\n",
      "Epoch: 002/010|Batch 000/938| Loss: 0.0000\n",
      "Epoch: 002/010|Batch 400/938| Loss: 0.0300\n",
      "Epoch: 002/010|Batch 800/938| Loss: 0.2433\n",
      "Epoch: 002/010 training accuracy: 98.74%\n",
      "Time elapsed: 0.51 min\n",
      "Epoch: 003/010|Batch 000/938| Loss: 0.0163\n",
      "Epoch: 003/010|Batch 400/938| Loss: 0.0380\n",
      "Epoch: 003/010|Batch 800/938| Loss: 0.0108\n",
      "Epoch: 003/010 training accuracy: 99.03%\n",
      "Time elapsed: 0.79 min\n",
      "Epoch: 004/010|Batch 000/938| Loss: 0.0447\n",
      "Epoch: 004/010|Batch 400/938| Loss: 0.0099\n",
      "Epoch: 004/010|Batch 800/938| Loss: 0.0630\n",
      "Epoch: 004/010 training accuracy: 99.23%\n",
      "Time elapsed: 1.02 min\n",
      "Epoch: 005/010|Batch 000/938| Loss: 0.0014\n",
      "Epoch: 005/010|Batch 400/938| Loss: 0.0800\n",
      "Epoch: 005/010|Batch 800/938| Loss: 0.0177\n",
      "Epoch: 005/010 training accuracy: 99.14%\n",
      "Time elapsed: 1.25 min\n",
      "Epoch: 006/010|Batch 000/938| Loss: 0.0007\n",
      "Epoch: 006/010|Batch 400/938| Loss: 0.0434\n",
      "Epoch: 006/010|Batch 800/938| Loss: 0.0084\n",
      "Epoch: 006/010 training accuracy: 98.86%\n",
      "Time elapsed: 1.49 min\n",
      "Epoch: 007/010|Batch 000/938| Loss: 0.0759\n",
      "Epoch: 007/010|Batch 400/938| Loss: 0.0117\n",
      "Epoch: 007/010|Batch 800/938| Loss: 0.0048\n",
      "Epoch: 007/010 training accuracy: 99.11%\n",
      "Time elapsed: 1.72 min\n",
      "Epoch: 008/010|Batch 000/938| Loss: 0.0002\n",
      "Epoch: 008/010|Batch 400/938| Loss: 0.0090\n",
      "Epoch: 008/010|Batch 800/938| Loss: 0.0019\n",
      "Epoch: 008/010 training accuracy: 99.07%\n",
      "Time elapsed: 1.94 min\n",
      "Epoch: 009/010|Batch 000/938| Loss: 0.0006\n",
      "Epoch: 009/010|Batch 400/938| Loss: 0.0628\n",
      "Epoch: 009/010|Batch 800/938| Loss: 0.0218\n",
      "Epoch: 009/010 training accuracy: 98.60%\n",
      "Time elapsed: 2.16 min\n",
      "Epoch: 010/010|Batch 000/938| Loss: 0.0084\n",
      "Epoch: 010/010|Batch 400/938| Loss: 0.0004\n",
      "Epoch: 010/010|Batch 800/938| Loss: 0.0242\n",
      "Epoch: 010/010 training accuracy: 99.17%\n",
      "Time elapsed: 2.38 min\n",
      "Total Training Time: 2.38 min\n",
      "Test accuracy LoRA finetune: 97.52%\n"
     ]
    }
   ],
   "source": [
    "optimizer_lora=torch.optim.Adam(model_lora.parameters(), lr=learning_rate)\n",
    "train(num_epochs, model_lora, optimizer_lora, train_loader, DEVICE)\n",
    "print(f'Test accuracy LoRA finetune: {compute_accuracy(model_lora, test_loader, DEVICE):.2f}%')"
   ]
  },
  {
   "cell_type": "code",
   "execution_count": 30,
   "metadata": {},
   "outputs": [
    {
     "name": "stdout",
     "output_type": "stream",
     "text": [
      "Test accuracy orig model:97.34%\n",
      "Test accuracy LoRA model:97.52%\n"
     ]
    }
   ],
   "source": [
    "print(f'Test accuracy orig model:{compute_accuracy(model, test_loader, DEVICE):.2f}%')\n",
    "print(f'Test accuracy LoRA model:{compute_accuracy(model_lora, test_loader, DEVICE):.2f}%')"
   ]
  },
  {
   "cell_type": "markdown",
   "metadata": {},
   "source": [
    "##### Illustrative Example"
   ]
  },
  {
   "cell_type": "code",
   "execution_count": 1,
   "metadata": {},
   "outputs": [
    {
     "name": "stdout",
     "output_type": "stream",
     "text": [
      "Original Matrix W:\n",
      "[[0.27623515 0.63215998 0.92459435 0.12553922 0.1324817  0.62949987\n",
      "  0.67642814 0.20044365 0.15545272 0.31994525]\n",
      " [0.31620771 0.73463356 0.40055041 0.87588128 0.78227843 0.90167607\n",
      "  0.32959735 0.28369558 0.42492724 0.133431  ]\n",
      " [0.87525289 0.32988044 0.83585347 0.93829371 0.09390059 0.25781041\n",
      "  0.51288144 0.91023738 0.93678052 0.40134471]\n",
      " [0.10761006 0.26557536 0.89544327 0.32928028 0.46488922 0.97024327\n",
      "  0.52649051 0.00352671 0.82629554 0.43071364]\n",
      " [0.52791184 0.59928369 0.46913586 0.68322513 0.67940471 0.08802975\n",
      "  0.80061053 0.97934069 0.46685688 0.69116909]\n",
      " [0.647555   0.25602217 0.25908842 0.8408801  0.90313406 0.43487419\n",
      "  0.48209494 0.22609687 0.05766792 0.06151783]\n",
      " [0.99683345 0.76136488 0.65484794 0.43741365 0.75294596 0.20422666\n",
      "  0.32325106 0.07004434 0.73373486 0.81046958]\n",
      " [0.15282686 0.09544934 0.19786853 0.60568179 0.36603849 0.42335153\n",
      "  0.17983766 0.71277869 0.92063546 0.78758077]\n",
      " [0.34864647 0.54255032 0.58589173 0.94692057 0.28321406 0.92025639\n",
      "  0.19620399 0.82872165 0.07697296 0.98053256]\n",
      " [0.7383354  0.96089536 0.89232405 0.91668038 0.55144295 0.00813285\n",
      "  0.62078543 0.29474621 0.21108933 0.5899842 ]]\n",
      "\n",
      "Matrix A:\n",
      "[[0.3110704  0.10658434]\n",
      " [0.62173576 0.73818873]\n",
      " [0.54926617 0.56041878]\n",
      " [0.22147023 0.60311169]\n",
      " [0.17182113 0.37406109]\n",
      " [0.99814917 0.32537948]\n",
      " [0.87918457 0.77123608]\n",
      " [0.29484671 0.58833995]\n",
      " [0.20611887 0.92893633]\n",
      " [0.99490618 0.01330527]]\n",
      "\n",
      "Matrix B:\n",
      "[[0.18328231 0.63895546 0.4695206  0.45351238 0.36120203 0.58381646\n",
      "  0.6565954  0.85317408 0.09397047 0.17115193]\n",
      " [0.56269451 0.25342736 0.70779341 0.36000381 0.6444166  0.48665417\n",
      "  0.18000402 0.03411301 0.69491744 0.7970297 ]]\n",
      "\n",
      "Approximated Matrix W_approx (A * B):\n",
      "[[0.11698812 0.22577152 0.22149365 0.17944504 0.18104398 0.23347773\n",
      "  0.223433   0.26903311 0.10329875 0.13819118]\n",
      " [0.52932791 0.58433867 0.81440286 0.54771561 0.70027329 0.72222219\n",
      "  0.54110578 0.55563067 0.57140502 0.69476962]\n",
      " [0.41601534 0.49298207 0.6545525  0.4508519  0.55953922 0.59340076\n",
      "  0.46152328 0.48773723 0.44105958 0.54067837]\n",
      " [0.37995921 0.29435462 0.53086332 0.317562   0.46865068 0.42280479\n",
      "  0.25397887 0.20952662 0.43992449 0.51860299]\n",
      " [0.2419739  0.20458336 0.34543154 0.21258643 0.30311332 0.2823504\n",
      "  0.18014947 0.15935369 0.27608769 0.32754532]\n",
      " [0.36603233 0.72023292 0.69895305 0.56981085 0.57021344 0.74108319\n",
      "  0.71394976 0.86269467 0.31990842 0.43017226]\n",
      " [0.59510928 0.7572121  0.95867108 0.67636901 0.81456058 0.88860767\n",
      "  0.71609414 0.77640667 0.61856279 0.76517219]\n",
      " [0.38509584 0.33749535 0.55485974 0.34552125 0.48563526 0.45845445\n",
      "  0.29949855 0.27162562 0.43655458 0.519388  ]\n",
      " [0.56048531 0.36711866 0.75427207 0.42789807 0.67307255 0.57240633\n",
      "  0.30254898 0.2075441  0.66490314 0.77566749]\n",
      " [0.18983551 0.63907265 0.47654633 0.45599222 0.36793627 0.58731767\n",
      "  0.65564582 0.84928204 0.10273787 0.18088481]]\n",
      "\n",
      "Number of parameters in W: 100\n",
      "Number of parameters in A and B: 40\n"
     ]
    }
   ],
   "source": [
    "import numpy as np\n",
    "\n",
    "# Original matrix W\n",
    "W = np.random.rand(10, 10)\n",
    "\n",
    "# Low-rank approximation matrices A and B\n",
    "rank = 2\n",
    "A = np.random.rand(10, rank)\n",
    "B = np.random.rand(rank, 10)\n",
    "\n",
    "# Approximate W with A * B\n",
    "W_approx = np.dot(A, B)\n",
    "\n",
    "# Print the matrices\n",
    "print(\"Original Matrix W:\")\n",
    "print(W)\n",
    "print(\"\\nMatrix A:\")\n",
    "print(A)\n",
    "print(\"\\nMatrix B:\")\n",
    "print(B)\n",
    "print(\"\\nApproximated Matrix W_approx (A * B):\")\n",
    "print(W_approx)\n",
    "\n",
    "# Number of parameters\n",
    "params_W = W.size\n",
    "params_A_B = A.size + B.size\n",
    "\n",
    "print(f\"\\nNumber of parameters in W: {params_W}\")\n",
    "print(f\"Number of parameters in A and B: {params_A_B}\")"
   ]
  }
 ],
 "metadata": {
  "kernelspec": {
   "display_name": "env",
   "language": "python",
   "name": "python3"
  },
  "language_info": {
   "codemirror_mode": {
    "name": "ipython",
    "version": 3
   },
   "file_extension": ".py",
   "mimetype": "text/x-python",
   "name": "python",
   "nbconvert_exporter": "python",
   "pygments_lexer": "ipython3",
   "version": "3.10.9"
  }
 },
 "nbformat": 4,
 "nbformat_minor": 2
}
